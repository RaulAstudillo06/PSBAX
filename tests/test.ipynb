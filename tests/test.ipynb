{
 "cells": [
  {
   "cell_type": "code",
   "execution_count": 9,
   "metadata": {},
   "outputs": [],
   "source": [
    "\n",
    "import os\n",
    "import torch\n",
    "\n",
    "\n",
    "tkwargs = {\n",
    "    \"dtype\": torch.float64,\n",
    "    \"device\": torch.device(\"cpu\"),\n",
    "}\n",
    "\n",
    "import botorch\n",
    "from botorch.test_functions.multi_objective import DTLZ1\n",
    "\n",
    "import torch\n",
    "from botorch.fit import fit_gpytorch_mll\n",
    "from botorch.models import SingleTaskGP, ModelListGP\n",
    "from botorch.sampling import SobolQMCNormalSampler\n",
    "from botorch.models.transforms.outcome import Standardize\n",
    "from gpytorch.mlls import ExactMarginalLogLikelihood\n",
    "from botorch.utils.gp_sampling import get_gp_samples\n",
    "from botorch.acquisition.analytic import PosteriorMean\n",
    "from botorch.models.deterministic import GenericDeterministicModel\n",
    "from botorch.utils.multi_objective.box_decompositions.non_dominated import (\n",
    "    FastNondominatedPartitioning\n",
    ")\n",
    "from botorch.utils.multi_objective import Hypervolume\n",
    "\n",
    "\n",
    "import numpy as np\n",
    "from pymoo.problems import get_problem\n",
    "from pymoo.optimize import minimize\n",
    "from pymoo.visualization.scatter import Scatter\n",
    "from pymoo.indicators.hv import HV\n",
    "from pymoo.algorithms.moo.nsga2 import NSGA2\n",
    "from pymoo.operators.crossover.sbx import SBX\n",
    "from pymoo.operators.mutation.pm import PM\n",
    "from pymoo.operators.sampling.rnd import FloatRandomSampling\n",
    "from pymoo.core.problem import Problem\n",
    "\n",
    "import matplotlib.pyplot as plt"
   ]
  },
  {
   "cell_type": "markdown",
   "metadata": {},
   "source": [
    "# Multiobjective Algo"
   ]
  },
  {
   "cell_type": "code",
   "execution_count": 3,
   "metadata": {},
   "outputs": [],
   "source": [
    "def hv_truncation(\n",
    "        sample_pf,\n",
    "        ref_point,\n",
    "        output_size,\n",
    "    ):  \n",
    "    '''\n",
    "    Args:\n",
    "        output_size: The desired number of Pareto points.\n",
    "        sample_pf: A `P x M`-dim Numpy array containing the oversampled Pareto front .\n",
    "    '''\n",
    "    M = sample_pf.shape[-1]\n",
    "    indices = []\n",
    "    sample_pf = torch.from_numpy(sample_pf)\n",
    "    ref_point = torch.from_numpy(ref_point)\n",
    "\n",
    "    for k in range(output_size):\n",
    "        if k == 0:\n",
    "            hypercell_bounds = torch.zeros(2, M)\n",
    "            hypercell_bounds[0] = ref_point\n",
    "            hypercell_bounds[1] = 1e+10\n",
    "        else:\n",
    "            partitioning = FastNondominatedPartitioning(\n",
    "                ref_point=ref_point, Y=fantasized_pf\n",
    "            )\n",
    "\n",
    "            hypercell_bounds = partitioning.hypercell_bounds\n",
    "\n",
    "        # `1 x num_boxes x M`\n",
    "        lo = hypercell_bounds[0].unsqueeze(0)\n",
    "        up = hypercell_bounds[1].unsqueeze(0)\n",
    "        # compute hv\n",
    "        hvi = torch.max(\n",
    "            torch.min(sample_pf.unsqueeze(-2), up) - lo,\n",
    "            torch.zeros(lo.shape)\n",
    "        ).prod(dim=-1).sum(dim=-1)\n",
    "\n",
    "        # zero out pending points\n",
    "        hvi[indices] = 0\n",
    "        # store update\n",
    "        am = torch.argmax(hvi).tolist()\n",
    "        indices = indices + [am]\n",
    "\n",
    "        if k == 0:\n",
    "            fantasized_pf = sample_pf[am:am + 1, :]\n",
    "        else:\n",
    "            fantasized_pf = torch.cat([fantasized_pf, sample_pf[am:am + 1, :]],\n",
    "                                    dim=0)\n",
    "\n",
    "    # indices = torch.tensor(indices)\n",
    "    return indices"
   ]
  },
  {
   "cell_type": "markdown",
   "metadata": {},
   "source": [
    "## DTLZ2"
   ]
  },
  {
   "cell_type": "code",
   "execution_count": 58,
   "metadata": {},
   "outputs": [],
   "source": [
    "x_dim = 6\n",
    "num_objectives = 2\n",
    "\n",
    "pymoo_problem = get_problem(\n",
    "    \"dtlz2\",\n",
    "    n_var=x_dim,\n",
    "    n_obj=num_objectives,\n",
    ") # minimizing\n",
    "\n",
    "obj_func = botorch.test_functions.multi_objective.DTLZ2(\n",
    "    dim=x_dim,\n",
    "    num_objectives=num_objectives,\n",
    "    negate=True,\n",
    ")\n",
    "ref_val = obj_func._ref_val # This doesn't change even if negate=True!!!!!\n",
    "ref_point = np.array([ref_val] * num_objectives)\n",
    "\n",
    "pymoo_pf = pymoo_problem.pareto_front()\n",
    "# pymoo_ref_point = np.array([11] * num_objectives)\n",
    "pymoo_ref_point = ref_point"
   ]
  },
  {
   "cell_type": "code",
   "execution_count": 72,
   "metadata": {},
   "outputs": [
    {
     "data": {
      "image/png": "[encoded data removed]",
      "text/plain": [
       "<Figure size 640x480 with 1 Axes>"
      ]
     },
     "metadata": {},
     "output_type": "display_data"
    }
   ],
   "source": [
    "# plot pymoo pareto front and reference point\n",
    "fig, ax = plt.subplots()\n",
    "ax.scatter(pymoo_pf[:, 0], pymoo_pf[:, 1], label=\"Pareto Front\")\n",
    "ax.scatter(pymoo_ref_point[0], pymoo_ref_point[1], label=\"Reference Point\")\n",
    "ax.set_xlabel(\"Objective 1\")\n",
    "ax.set_ylabel(\"Objective 2\")\n",
    "ax.legend()\n",
    "plt.show()\n",
    "\n"
   ]
  },
  {
   "cell_type": "code",
   "execution_count": 59,
   "metadata": {},
   "outputs": [],
   "source": [
    "test_x = torch.rand(10, x_dim, **tkwargs)\n",
    "# compute pymoo value of the test_x\n",
    "pymoo_y = []\n",
    "for x in test_x:\n",
    "    x_ = x.numpy()\n",
    "    # print(x_)\n",
    "    y = pymoo_problem.evaluate(x_)\n",
    "    # print(y)\n",
    "    pymoo_y.append(y)\n",
    "\n",
    "pymoo_y = np.array(pymoo_y)\n",
    "\n",
    "botorch_y = obj_func(test_x).numpy()"
   ]
  },
  {
   "cell_type": "code",
   "execution_count": 60,
   "metadata": {},
   "outputs": [
    {
     "data": {
      "text/plain": [
       "0.4201303514688245"
      ]
     },
     "execution_count": 60,
     "metadata": {},
     "output_type": "execute_result"
    }
   ],
   "source": [
    "ind_pymoo = HV(ref_point=pymoo_ref_point)\n",
    "ind_pymoo(pymoo_pf)"
   ]
  },
  {
   "cell_type": "code",
   "execution_count": 61,
   "metadata": {},
   "outputs": [
    {
     "data": {
      "text/plain": [
       "0.4201303514688245"
      ]
     },
     "execution_count": 61,
     "metadata": {},
     "output_type": "execute_result"
    }
   ],
   "source": [
    "class BotorchProblem(Problem):\n",
    "    def __init__(self):\n",
    "        super().__init__(\n",
    "            n_var=x_dim,\n",
    "            n_obj=num_objectives,\n",
    "            n_constr=0,\n",
    "            xl=np.array([0] * x_dim),\n",
    "            xu=np.array([1] * x_dim),\n",
    "        )\n",
    "\n",
    "    def _evaluate(self, x, out, *args, **kwargs):\n",
    "        xt = torch.tensor(x)\n",
    "        out[\"F\"] = -1 * obj_func(xt).numpy()\n",
    "        return out\n",
    "\n",
    "botorch_problem = BotorchProblem()\n",
    "botorch_ref_point = -1 * torch.from_numpy(ref_point)\n",
    "ind_botorch = Hypervolume(ref_point=botorch_ref_point)\n",
    "ind_botorch.compute(-torch.from_numpy(pymoo_pf))"
   ]
  },
  {
   "cell_type": "code",
   "execution_count": 68,
   "metadata": {},
   "outputs": [
    {
     "data": {
      "text/plain": [
       "tensor([-1.1000, -1.1000], dtype=torch.float64)"
      ]
     },
     "execution_count": 68,
     "metadata": {},
     "output_type": "execute_result"
    }
   ],
   "source": [
    "botorch_ref_point"
   ]
  },
  {
   "cell_type": "code",
   "execution_count": 65,
   "metadata": {},
   "outputs": [],
   "source": [
    "aug_pareto_set, aug_pareto_front = [], []\n",
    "for i in range(5):\n",
    "\n",
    "    algorithm = NSGA2(\n",
    "        pop_size=100,\n",
    "        n_offsprings=10,\n",
    "        sampling=FloatRandomSampling(),\n",
    "        crossover=SBX(prob=0.9, eta=15),\n",
    "        mutation=PM(eta=10),\n",
    "        eliminate_duplicates=True,\n",
    "        seed = np.random.randint(0, 1000),\n",
    "    )\n",
    "\n",
    "    result = minimize(\n",
    "        botorch_problem,\n",
    "        algorithm,\n",
    "        (\"n_gen\", 500),\n",
    "        save_history=True,\n",
    "        verbose=False,\n",
    "    )\n",
    "\n",
    "    X, F = result.opt.get(\"X\", \"F\")\n",
    "    aug_pareto_set.append(X)\n",
    "    aug_pareto_front.append(F)\n",
    "\n",
    "pareto_set = np.vstack(aug_pareto_set)\n",
    "pareto_front = -1 * np.vstack(aug_pareto_front) # turns into max mode"
   ]
  },
  {
   "cell_type": "code",
   "execution_count": 66,
   "metadata": {},
   "outputs": [],
   "source": [
    "idx = hv_truncation(pareto_front, botorch_ref_point.numpy(), 50)\n",
    "pareto_set = pareto_set[idx]\n",
    "pareto_front = pareto_front[idx]"
   ]
  },
  {
   "cell_type": "code",
   "execution_count": 73,
   "metadata": {},
   "outputs": [
    {
     "data": {
      "image/png": "[encoded data removed]",
      "text/plain": [
       "<Figure size 640x480 with 1 Axes>"
      ]
     },
     "metadata": {},
     "output_type": "display_data"
    }
   ],
   "source": [
    "# plot pareto front and reference point\n",
    "fig, ax = plt.subplots()\n",
    "ax.scatter(pareto_front[:, 0], pareto_front[:, 1], label=\"Pareto Front\")\n",
    "ax.scatter(botorch_ref_point[0], botorch_ref_point[1], label=\"Reference Point\")\n",
    "ax.set_xlabel(\"Objective 1\")\n",
    "ax.set_ylabel(\"Objective 2\")\n",
    "ax.legend()\n",
    "plt.show()"
   ]
  },
  {
   "cell_type": "code",
   "execution_count": 71,
   "metadata": {},
   "outputs": [
    {
     "data": {
      "text/plain": [
       "tensor([-1.1000, -1.1000], dtype=torch.float64)"
      ]
     },
     "execution_count": 71,
     "metadata": {},
     "output_type": "execute_result"
    }
   ],
   "source": [
    "botorch_ref_point"
   ]
  },
  {
   "cell_type": "code",
   "execution_count": 75,
   "metadata": {},
   "outputs": [
    {
     "data": {
      "text/plain": [
       "0.4167858834490649"
      ]
     },
     "execution_count": 75,
     "metadata": {},
     "output_type": "execute_result"
    }
   ],
   "source": [
    "# botorch_ind = HV(ref_point=-botorch_ref_point)\n",
    "ind_botorch = Hypervolume(ref_point=botorch_ref_point)\n",
    "x_torch = torch.tensor(pareto_set)\n",
    "f_values = obj_func(x_torch).squeeze()\n",
    "ind_botorch.compute(f_values)\n",
    "\n"
   ]
  },
  {
   "cell_type": "code",
   "execution_count": 70,
   "metadata": {},
   "outputs": [
    {
     "data": {
      "text/plain": [
       "0.4167858834490649"
      ]
     },
     "execution_count": 70,
     "metadata": {},
     "output_type": "execute_result"
    }
   ],
   "source": [
    "negate_f_values = -1 * f_values.numpy()\n",
    "ind_pymoo = HV(ref_point=pymoo_ref_point)\n",
    "ind_pymoo(negate_f_values)"
   ]
  },
  {
   "cell_type": "markdown",
   "metadata": {},
   "source": [
    "## ZDT2"
   ]
  },
  {
   "cell_type": "code",
   "execution_count": 4,
   "metadata": {},
   "outputs": [
    {
     "data": {
      "text/plain": [
       "120.32829983335034"
      ]
     },
     "execution_count": 4,
     "metadata": {},
     "output_type": "execute_result"
    }
   ],
   "source": [
    "x_dim = 6\n",
    "num_objectives = 2\n",
    "\n",
    "pymoo_problem = get_problem(\n",
    "    # \"zdt2\",\n",
    "    \"dtlz2\",\n",
    "    n_var=x_dim,\n",
    "    n_obj=num_objectives,\n",
    ") # minimizing\n",
    "\n",
    "pymoo_pf = pymoo_problem.pareto_front()\n",
    "pymoo_ref_point = np.array([11] * num_objectives)\n",
    "ind_pymoo = HV(ref_point=pymoo_ref_point)\n",
    "ind_pymoo(pymoo_pf)"
   ]
  },
  {
   "cell_type": "code",
   "execution_count": 5,
   "metadata": {},
   "outputs": [
    {
     "data": {
      "image/png": "[encoded data removed]",
      "text/plain": [
       "<Figure size 640x480 with 1 Axes>"
      ]
     },
     "metadata": {},
     "output_type": "display_data"
    }
   ],
   "source": [
    "# plot the ref poitn and the pareto front\n",
    "fig, ax = plt.subplots()\n",
    "ax.scatter(pymoo_pf[:, 0], pymoo_pf[:, 1], label=\"Pymoo Pareto Front\")\n",
    "ax.scatter(pymoo_ref_point[0], pymoo_ref_point[1], label=\"Pymoo Ref Point\")\n",
    "ax.set_xlabel(\"Objective 1\")\n",
    "ax.set_ylabel(\"Objective 2\")\n",
    "ax.legend()\n",
    "plt.show()\n"
   ]
  },
  {
   "cell_type": "code",
   "execution_count": 35,
   "metadata": {},
   "outputs": [],
   "source": [
    "obj_func = botorch.test_functions.multi_objective.ZDT2(\n",
    "    dim=x_dim,\n",
    "    num_objectives=num_objectives,\n",
    "    negate=False,\n",
    ")\n",
    "\n",
    "class BotorchProblem(Problem):\n",
    "    def __init__(self):\n",
    "        super().__init__(\n",
    "            n_var=x_dim,\n",
    "            n_obj=num_objectives,\n",
    "            n_constr=0,\n",
    "            xl=np.array([0] * x_dim),\n",
    "            xu=np.array([1] * x_dim),\n",
    "        )\n",
    "\n",
    "    def _evaluate(self, x, out, *args, **kwargs):\n",
    "        xt = torch.tensor(x)\n",
    "        out[\"F\"] = -1 * obj_func(xt).numpy()\n",
    "        return out\n",
    "\n",
    "botorch_problem = BotorchProblem()\n",
    "botorch_ref_point = obj_func.ref_point.numpy() # negative of the pymoo_ref_point"
   ]
  },
  {
   "cell_type": "code",
   "execution_count": 7,
   "metadata": {},
   "outputs": [],
   "source": [
    "aug_pareto_set, aug_pareto_front = [], []\n",
    "for i in range(5):\n",
    "\n",
    "    algorithm = NSGA2(\n",
    "        pop_size=100,\n",
    "        n_offsprings=10,\n",
    "        sampling=FloatRandomSampling(),\n",
    "        crossover=SBX(prob=0.9, eta=15),\n",
    "        mutation=PM(eta=10),\n",
    "        eliminate_duplicates=True,\n",
    "        seed = np.random.randint(0, 1000),\n",
    "    )\n",
    "\n",
    "    result = minimize(\n",
    "        botorch_problem,\n",
    "        algorithm,\n",
    "        (\"n_gen\", 500),\n",
    "        save_history=True,\n",
    "        verbose=False,\n",
    "    )\n",
    "\n",
    "    X, F = result.opt.get(\"X\", \"F\")\n",
    "    aug_pareto_set.append(X)\n",
    "    aug_pareto_front.append(F)\n",
    "\n",
    "pareto_set = np.vstack(aug_pareto_set)\n",
    "pareto_front = -1 * np.vstack(aug_pareto_front) # turns into max mode"
   ]
  },
  {
   "cell_type": "code",
   "execution_count": 8,
   "metadata": {},
   "outputs": [],
   "source": [
    "idx = hv_truncation(pareto_front, botorch_ref_point, 100)\n",
    "pareto_set = pareto_set[idx]\n",
    "pareto_front = pareto_front[idx]"
   ]
  },
  {
   "cell_type": "code",
   "execution_count": 9,
   "metadata": {},
   "outputs": [
    {
     "data": {
      "text/plain": [
       "120.3240370603349"
      ]
     },
     "execution_count": 9,
     "metadata": {},
     "output_type": "execute_result"
    }
   ],
   "source": [
    "botorch_ind = HV(ref_point=-botorch_ref_point)\n",
    "x_torch = torch.tensor(pareto_set)\n",
    "f_values = obj_func(x_torch).squeeze().numpy()\n",
    "botorch_ind(-f_values)"
   ]
  },
  {
   "cell_type": "code",
   "execution_count": 10,
   "metadata": {},
   "outputs": [
    {
     "data": {
      "image/png": "[encoded data removed]",
      "text/plain": [
       "<Figure size 640x480 with 1 Axes>"
      ]
     },
     "metadata": {},
     "output_type": "display_data"
    }
   ],
   "source": [
    "# plot the ref point and the pareto front\n",
    "fig, ax = plt.subplots()\n",
    "ax.scatter(pareto_front[:, 0], pareto_front[:, 1], label=\"Botorch Pareto Front\")\n",
    "ax.scatter(botorch_ref_point[0], botorch_ref_point[1], label=\"Botorch Ref Point\")\n",
    "ax.set_xlabel(\"Objective 1\")\n",
    "ax.set_ylabel(\"Objective 2\")\n",
    "ax.legend()\n",
    "plt.show()\n"
   ]
  },
  {
   "cell_type": "code",
   "execution_count": 20,
   "metadata": {},
   "outputs": [
    {
     "data": {
      "text/plain": [
       "120.32403564453125"
      ]
     },
     "execution_count": 20,
     "metadata": {},
     "output_type": "execute_result"
    }
   ],
   "source": [
    "from botorch.utils.multi_objective import Hypervolume\n",
    "\n",
    "botorch_hv = Hypervolume(ref_point=torch.from_numpy(botorch_ref_point))\n",
    "\n",
    "botorch_hv.compute(torch.from_numpy(f_values))"
   ]
  },
  {
   "cell_type": "markdown",
   "metadata": {},
   "source": [
    "# Noise level"
   ]
  },
  {
   "cell_type": "code",
   "execution_count": 28,
   "metadata": {},
   "outputs": [],
   "source": [
    "from botorch.utils.sampling import draw_sobol_samples\n",
    "\n",
    "def compute_noise_level(obj_func, noise_level, bounds, num_points=1000, seed=None):\n",
    "    '''\n",
    "    Args:\n",
    "        obj_func: callable\n",
    "        noise_level: float, percentage of max and min obj_func value\n",
    "        bounds: torch tensor, shape (2, input_dim)\n",
    "        num_points: int, number of function evaluations to estimate the noise level\n",
    "    '''\n",
    "    inputs = draw_sobol_samples(bounds=bounds, n=num_points, q=1, seed=seed).squeeze(0)\n",
    "    obj_vals = obj_func(inputs)\n",
    "    max_vals = torch.max(obj_vals, dim=0).values # shape (num_obj,)\n",
    "    min_val = torch.min(obj_vals, dim=0).values # shape (num_obj,)\n",
    "    noise_stds = (max_vals - min_val) * noise_level\n",
    "    return noise_stds\n",
    "\n",
    "bounds = torch.vstack([torch.zeros(x_dim), torch.ones(x_dim)]).to(**tkwargs)\n",
    "\n",
    "inputs = draw_sobol_samples(bounds=bounds, n=1000, q=1, seed=0).squeeze(0)\n",
    "obj_vals = obj_func(inputs)\n",
    "max_vals = torch.max(obj_vals, dim=0).values # shape (num_obj,)\n",
    "\n",
    "min_val = torch.min(obj_vals, dim=0).values # shape (num_obj,)\n",
    "noise_level = 0.05"
   ]
  }
 ],
 "metadata": {
  "kernelspec": {
   "display_name": "MCPBO",
   "language": "python",
   "name": "python3"
  },
  "language_info": {
   "codemirror_mode": {
    "name": "ipython",
    "version": 3
   },
   "file_extension": ".py",
   "mimetype": "text/x-python",
   "name": "python",
   "nbconvert_exporter": "python",
   "pygments_lexer": "ipython3",
   "version": "3.11.6"
  }
 },
 "nbformat": 4,
 "nbformat_minor": 2
}
