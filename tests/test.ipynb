{
 "cells": [
  {
   "cell_type": "code",
   "execution_count": 2,
   "metadata": {},
   "outputs": [],
   "source": [
    "\n",
    "import os\n",
    "import torch\n",
    "\n",
    "\n",
    "tkwargs = {\n",
    "    \"dtype\": torch.float64,\n",
    "    \"device\": torch.device(\"cpu\"),\n",
    "}\n",
    "\n",
    "import botorch\n",
    "from botorch.test_functions.multi_objective import DTLZ1\n",
    "\n",
    "import torch\n",
    "from botorch.fit import fit_gpytorch_mll\n",
    "from botorch.models import SingleTaskGP, ModelListGP\n",
    "from botorch.sampling import SobolQMCNormalSampler\n",
    "from botorch.models.transforms.outcome import Standardize\n",
    "from gpytorch.mlls import ExactMarginalLogLikelihood\n",
    "from botorch.utils.gp_sampling import get_gp_samples\n",
    "from botorch.acquisition.analytic import PosteriorMean\n",
    "from botorch.models.deterministic import GenericDeterministicModel\n",
    "from botorch.utils.multi_objective.box_decompositions.non_dominated import (\n",
    "    FastNondominatedPartitioning\n",
    ")\n",
    "\n",
    "import numpy as np\n",
    "from pymoo.problems import get_problem\n",
    "from pymoo.optimize import minimize\n",
    "from pymoo.visualization.scatter import Scatter\n",
    "from pymoo.indicators.hv import HV\n",
    "from pymoo.algorithms.moo.nsga2 import NSGA2\n",
    "from pymoo.operators.crossover.sbx import SBX\n",
    "from pymoo.operators.mutation.pm import PM\n",
    "from pymoo.operators.sampling.rnd import FloatRandomSampling\n",
    "from pymoo.core.problem import Problem\n",
    "\n",
    "import matplotlib.pyplot as plt"
   ]
  },
  {
   "cell_type": "code",
   "execution_count": 3,
   "metadata": {},
   "outputs": [],
   "source": [
    "def hv_truncation(\n",
    "        sample_pf,\n",
    "        ref_point,\n",
    "        output_size,\n",
    "    ):  \n",
    "    '''\n",
    "    Args:\n",
    "        output_size: The desired number of Pareto points.\n",
    "        sample_pf: A `P x M`-dim Numpy array containing the oversampled Pareto front .\n",
    "    '''\n",
    "    M = sample_pf.shape[-1]\n",
    "    indices = []\n",
    "    sample_pf = torch.from_numpy(sample_pf)\n",
    "    ref_point = torch.from_numpy(ref_point)\n",
    "\n",
    "    for k in range(output_size):\n",
    "        if k == 0:\n",
    "            hypercell_bounds = torch.zeros(2, M)\n",
    "            hypercell_bounds[0] = ref_point\n",
    "            hypercell_bounds[1] = 1e+10\n",
    "        else:\n",
    "            partitioning = FastNondominatedPartitioning(\n",
    "                ref_point=ref_point, Y=fantasized_pf\n",
    "            )\n",
    "\n",
    "            hypercell_bounds = partitioning.hypercell_bounds\n",
    "\n",
    "        # `1 x num_boxes x M`\n",
    "        lo = hypercell_bounds[0].unsqueeze(0)\n",
    "        up = hypercell_bounds[1].unsqueeze(0)\n",
    "        # compute hv\n",
    "        hvi = torch.max(\n",
    "            torch.min(sample_pf.unsqueeze(-2), up) - lo,\n",
    "            torch.zeros(lo.shape)\n",
    "        ).prod(dim=-1).sum(dim=-1)\n",
    "\n",
    "        # zero out pending points\n",
    "        hvi[indices] = 0\n",
    "        # store update\n",
    "        am = torch.argmax(hvi).tolist()\n",
    "        indices = indices + [am]\n",
    "\n",
    "        if k == 0:\n",
    "            fantasized_pf = sample_pf[am:am + 1, :]\n",
    "        else:\n",
    "            fantasized_pf = torch.cat([fantasized_pf, sample_pf[am:am + 1, :]],\n",
    "                                    dim=0)\n",
    "\n",
    "    # indices = torch.tensor(indices)\n",
    "    return indices"
   ]
  },
  {
   "cell_type": "code",
   "execution_count": 4,
   "metadata": {},
   "outputs": [
    {
     "data": {
      "text/plain": [
       "120.32829983335034"
      ]
     },
     "execution_count": 4,
     "metadata": {},
     "output_type": "execute_result"
    }
   ],
   "source": [
    "x_dim = 6\n",
    "num_objectives = 2\n",
    "\n",
    "pymoo_problem = get_problem(\n",
    "    \"zdt2\",\n",
    "    n_var=x_dim,\n",
    ") # minimizing\n",
    "\n",
    "pymoo_pf = pymoo_problem.pareto_front()\n",
    "pymoo_ref_point = np.array([11] * num_objectives)\n",
    "ind_pymoo = HV(ref_point=pymoo_ref_point)\n",
    "ind_pymoo(pymoo_pf)"
   ]
  },
  {
   "cell_type": "code",
   "execution_count": 5,
   "metadata": {},
   "outputs": [
    {
     "data": {
      "image/png": "[encoded data removed]",
      "text/plain": [
       "<Figure size 640x480 with 1 Axes>"
      ]
     },
     "metadata": {},
     "output_type": "display_data"
    }
   ],
   "source": [
    "# plot the ref poitn and the pareto front\n",
    "fig, ax = plt.subplots()\n",
    "ax.scatter(pymoo_pf[:, 0], pymoo_pf[:, 1], label=\"Pymoo Pareto Front\")\n",
    "ax.scatter(pymoo_ref_point[0], pymoo_ref_point[1], label=\"Pymoo Ref Point\")\n",
    "ax.set_xlabel(\"Objective 1\")\n",
    "ax.set_ylabel(\"Objective 2\")\n",
    "ax.legend()\n",
    "plt.show()\n"
   ]
  },
  {
   "cell_type": "code",
   "execution_count": 6,
   "metadata": {},
   "outputs": [],
   "source": [
    "obj_func = botorch.test_functions.multi_objective.ZDT2(\n",
    "    dim=x_dim,\n",
    "    num_objectives=num_objectives,\n",
    "    negate=True,\n",
    ")\n",
    "\n",
    "class BotorchProblem(Problem):\n",
    "    def __init__(self):\n",
    "        super().__init__(\n",
    "            n_var=x_dim,\n",
    "            n_obj=num_objectives,\n",
    "            n_constr=0,\n",
    "            xl=np.array([0] * x_dim),\n",
    "            xu=np.array([1] * x_dim),\n",
    "        )\n",
    "\n",
    "    def _evaluate(self, x, out, *args, **kwargs):\n",
    "        xt = torch.tensor(x)\n",
    "        out[\"F\"] = -1 * obj_func(xt).numpy()\n",
    "        return out\n",
    "\n",
    "botorch_problem = BotorchProblem()\n",
    "botorch_ref_point = obj_func.ref_point.numpy() # negative of the pymoo_ref_point"
   ]
  },
  {
   "cell_type": "code",
   "execution_count": 28,
   "metadata": {},
   "outputs": [],
   "source": [
    "from botorch.utils.sampling import draw_sobol_samples\n",
    "\n",
    "def compute_noise_level(obj_func, noise_level, bounds, num_points=1000, seed=None):\n",
    "    '''\n",
    "    Args:\n",
    "        obj_func: callable\n",
    "        noise_level: float, percentage of max and min obj_func value\n",
    "        bounds: torch tensor, shape (2, input_dim)\n",
    "        num_points: int, number of function evaluations to estimate the noise level\n",
    "    '''\n",
    "    inputs = draw_sobol_samples(bounds=bounds, n=num_points, q=1, seed=seed).squeeze(0)\n",
    "    obj_vals = obj_func(inputs)\n",
    "    max_vals = torch.max(obj_vals, dim=0).values # shape (num_obj,)\n",
    "    min_val = torch.min(obj_vals, dim=0).values # shape (num_obj,)\n",
    "    noise_stds = (max_vals - min_val) * noise_level\n",
    "    return noise_stds\n",
    "\n",
    "bounds = torch.vstack([torch.zeros(x_dim), torch.ones(x_dim)]).to(**tkwargs)\n",
    "\n",
    "inputs = draw_sobol_samples(bounds=bounds, n=1000, q=1, seed=0).squeeze(0)\n",
    "obj_vals = obj_func(inputs)\n",
    "max_vals = torch.max(obj_vals, dim=0).values # shape (num_obj,)\n",
    "\n",
    "min_val = torch.min(obj_vals, dim=0).values # shape (num_obj,)\n",
    "noise_level = 0.05"
   ]
  },
  {
   "cell_type": "code",
   "execution_count": 24,
   "metadata": {},
   "outputs": [
    {
     "data": {
      "text/plain": [
       "tensor([[0.0500, 0.3802]], dtype=torch.float64)"
      ]
     },
     "execution_count": 24,
     "metadata": {},
     "output_type": "execute_result"
    }
   ],
   "source": [
    "(max_vals - min_val) * noise_level\n"
   ]
  },
  {
   "cell_type": "code",
   "execution_count": 30,
   "metadata": {},
   "outputs": [],
   "source": [
    "\n",
    "stds = compute_noise_level(obj_func, 0.05, bounds, num_points=1000)\n"
   ]
  },
  {
   "cell_type": "code",
   "execution_count": 31,
   "metadata": {},
   "outputs": [
    {
     "data": {
      "text/plain": [
       "tensor([[0.0499, 0.3428]], dtype=torch.float64)"
      ]
     },
     "execution_count": 31,
     "metadata": {},
     "output_type": "execute_result"
    }
   ],
   "source": [
    "stds\n",
    "\n",
    "\n"
   ]
  },
  {
   "cell_type": "code",
   "execution_count": 7,
   "metadata": {},
   "outputs": [],
   "source": [
    "aug_pareto_set, aug_pareto_front = [], []\n",
    "for i in range(5):\n",
    "\n",
    "    algorithm = NSGA2(\n",
    "        pop_size=100,\n",
    "        n_offsprings=10,\n",
    "        sampling=FloatRandomSampling(),\n",
    "        crossover=SBX(prob=0.9, eta=15),\n",
    "        mutation=PM(eta=10),\n",
    "        eliminate_duplicates=True,\n",
    "        seed = np.random.randint(0, 1000),\n",
    "    )\n",
    "\n",
    "    result = minimize(\n",
    "        botorch_problem,\n",
    "        algorithm,\n",
    "        (\"n_gen\", 500),\n",
    "        save_history=True,\n",
    "        verbose=False,\n",
    "    )\n",
    "\n",
    "    X, F = result.opt.get(\"X\", \"F\")\n",
    "    aug_pareto_set.append(X)\n",
    "    aug_pareto_front.append(F)\n",
    "\n",
    "pareto_set = np.vstack(aug_pareto_set)\n",
    "pareto_front = -1 * np.vstack(aug_pareto_front) # turns into max mode"
   ]
  },
  {
   "cell_type": "code",
   "execution_count": 8,
   "metadata": {},
   "outputs": [],
   "source": [
    "idx = hv_truncation(pareto_front, botorch_ref_point, 100)\n",
    "pareto_set = pareto_set[idx]\n",
    "pareto_front = pareto_front[idx]"
   ]
  },
  {
   "cell_type": "code",
   "execution_count": 9,
   "metadata": {},
   "outputs": [
    {
     "data": {
      "text/plain": [
       "120.3240370603349"
      ]
     },
     "execution_count": 9,
     "metadata": {},
     "output_type": "execute_result"
    }
   ],
   "source": [
    "botorch_ind = HV(ref_point=-botorch_ref_point)\n",
    "x_torch = torch.tensor(pareto_set)\n",
    "f_values = obj_func(x_torch).squeeze().numpy()\n",
    "botorch_ind(-f_values)"
   ]
  },
  {
   "cell_type": "code",
   "execution_count": 10,
   "metadata": {},
   "outputs": [
    {
     "data": {
      "image/png": "[encoded data removed]",
      "text/plain": [
       "<Figure size 640x480 with 1 Axes>"
      ]
     },
     "metadata": {},
     "output_type": "display_data"
    }
   ],
   "source": [
    "# plot the ref point and the pareto front\n",
    "fig, ax = plt.subplots()\n",
    "ax.scatter(pareto_front[:, 0], pareto_front[:, 1], label=\"Botorch Pareto Front\")\n",
    "ax.scatter(botorch_ref_point[0], botorch_ref_point[1], label=\"Botorch Ref Point\")\n",
    "ax.set_xlabel(\"Objective 1\")\n",
    "ax.set_ylabel(\"Objective 2\")\n",
    "ax.legend()\n",
    "plt.show()\n"
   ]
  },
  {
   "cell_type": "code",
   "execution_count": 20,
   "metadata": {},
   "outputs": [
    {
     "data": {
      "text/plain": [
       "120.32403564453125"
      ]
     },
     "execution_count": 20,
     "metadata": {},
     "output_type": "execute_result"
    }
   ],
   "source": [
    "from botorch.utils.multi_objective import Hypervolume\n",
    "\n",
    "botorch_hv = Hypervolume(ref_point=torch.from_numpy(botorch_ref_point))\n",
    "\n",
    "botorch_hv.compute(torch.from_numpy(f_values))"
   ]
  },
  {
   "cell_type": "code",
   "execution_count": 1,
   "metadata": {},
   "outputs": [],
   "source": [
    "import torch\n",
    "import numpy as np"
   ]
  },
  {
   "cell_type": "code",
   "execution_count": null,
   "metadata": {},
   "outputs": [],
   "source": [
    "inputs, obj_vals = generate_initial_data(\n",
    "    num_init_points=num_init_points,\n",
    "    input_dim=input_dim,\n",
    "    obj_func=obj_func,\n",
    "    noise_type=noise_type,\n",
    "    noise_level=noise_level,\n",
    "    seed=trial,\n",
    ")\n",
    "\n",
    "# Fit GP model\n",
    "t0 = time.time()\n",
    "model = fit_model(\n",
    "    inputs,\n",
    "    obj_vals,\n",
    "    model_type=model_type,\n",
    ")\n",
    "t1 = time.time()\n",
    "model_training_time = t1 - t0\n",
    "\n",
    "performance_metrics_vals = [\n",
    "    evaluate_performance(performance_metrics, model)\n",
    "]\n",
    "\n",
    "# Historical acquisition runtimes\n",
    "runtimes = []\n",
    "\n",
    "iteration = 0\n",
    "\n",
    "while iteration < num_iter:\n",
    "    iteration += 1\n",
    "    print(\"Problem: \" + problem)\n",
    "    print(\"Sampling policy: \" + policy_id)\n",
    "    print(\"Trial: \" + str(trial))\n",
    "    print(\"Iteration: \" + str(iteration))\n",
    "\n",
    "    # New suggested batch\n",
    "    t0 = time.time()\n",
    "    new_batch = get_new_suggested_batch(\n",
    "        policy=policy,\n",
    "        model=model,\n",
    "        algorithm=algorithm,\n",
    "        batch_size=batch_size,\n",
    "        input_dim=input_dim,\n",
    "        policy_params=policy_params,\n",
    "        model_type=model_type,\n",
    "    )\n",
    "    t1 = time.time()\n",
    "    acquisition_time = t1 - t0\n",
    "    runtimes.append(acquisition_time + model_training_time)\n",
    "\n",
    "    # Get obj vals at new batch\n",
    "    new_obj_vals = get_obj_vals(obj_func, new_batch, noise_type, noise_level)\n",
    "\n",
    "    # Update training data\n",
    "    inputs = torch.cat((inputs, new_batch))\n",
    "    obj_vals = torch.cat([obj_vals, new_obj_vals], 0)\n",
    "\n",
    "    # Fit GP model\n",
    "    t0 = time.time()\n",
    "    model = fit_model(\n",
    "        inputs,\n",
    "        obj_vals,\n",
    "        model_type=model_type,\n",
    "    )\n",
    "    t1 = time.time()\n",
    "    model_training_time = t1 - t0\n",
    "\n",
    "    # Append current objective value at the maximum of the posterior mean\n",
    "    # current_performance_metrics = compute_performance_metrics(\n",
    "    #     obj_func, model, performance_metrics\n",
    "    # )\n",
    "    # TODO: is this necessary?\n",
    "    current_performance_metrics = evaluate_performance(performance_metrics, model)\n",
    "\n",
    "    # for i, performance_metric_id in enumerate(performance_metrics.keys()):\n",
    "    #     print(performance_metric_id + \": \" + str(current_performance_metrics[i]))\n",
    "\n",
    "    for i, metric in enumerate(performance_metrics):\n",
    "        print(metric.name + \": \" + str(current_performance_metrics[i]))\n",
    "\n",
    "    performance_metrics_vals.append(current_performance_metrics)\n",
    "    # Save data"
   ]
  }
 ],
 "metadata": {
  "kernelspec": {
   "display_name": "MCPBO",
   "language": "python",
   "name": "python3"
  },
  "language_info": {
   "codemirror_mode": {
    "name": "ipython",
    "version": 3
   },
   "file_extension": ".py",
   "mimetype": "text/x-python",
   "name": "python",
   "nbconvert_exporter": "python",
   "pygments_lexer": "ipython3",
   "version": "3.11.6"
  }
 },
 "nbformat": 4,
 "nbformat_minor": 2
}
